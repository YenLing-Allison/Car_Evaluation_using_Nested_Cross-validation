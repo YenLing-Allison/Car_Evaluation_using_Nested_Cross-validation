{
 "cells": [
  {
   "cell_type": "markdown",
   "id": "36fe922d",
   "metadata": {},
   "source": [
    "## Car Evaluation using Nested Cross-validation with Categorical and Ordinal traget variable\n",
    "\n",
    "Allison Liu\n",
    "\n",
    "2023/09/29"
   ]
  },
  {
   "cell_type": "markdown",
   "id": "796d55da",
   "metadata": {},
   "source": [
    "# Car Evaluation\n",
    "\n",
    "### Workflow of Building Models using Nested Cross-Validation with Categoric and Ordinal dataset\n",
    "#### 1. Data Preprocessing - Encoding Categorical Data\n",
    "   * One Hot Encoding \n",
    "   * Ordinal Data  \n",
    "#### 2. Modeling\n",
    "   * Build five different models with two kind of dataset\n",
    "   * Evaluate overall scores\n",
    "#### 3. Retrain Model\n",
    "   * Retain the model using the most optimal one\n",
    "   * Tune hyperparameters\n",
    "#### 4. Performance Evaluation\n",
    "   * Classification report\n",
    "   * Confusion matrix, predictive accuracy, precision, recall, f-measure\n",
    "   * ROC and Lift curve"
   ]
  },
  {
   "cell_type": "code",
   "execution_count": 5,
   "id": "e347e513",
   "metadata": {},
   "outputs": [
    {
     "name": "stdout",
     "output_type": "stream",
     "text": [
      "(1728, 6)\n",
      "(1728, 1)\n",
      "       name     role         type demographic  \\\n",
      "0    buying  Feature  Categorical        None   \n",
      "1     maint  Feature  Categorical        None   \n",
      "2     doors  Feature  Categorical        None   \n",
      "3   persons  Feature  Categorical        None   \n",
      "4  lug_boot  Feature  Categorical        None   \n",
      "5    safety  Feature  Categorical        None   \n",
      "6     class   Target  Categorical        None   \n",
      "\n",
      "                                         description units missing_values  \n",
      "0                                       buying price  None             no  \n",
      "1                           price of the maintenance  None             no  \n",
      "2                                    number of doors  None             no  \n",
      "3              capacity in terms of persons to carry  None             no  \n",
      "4                           the size of luggage boot  None             no  \n",
      "5                        estimated safety of the car  None             no  \n",
      "6  evaulation level (unacceptable, acceptable, go...  None             no  \n"
     ]
    }
   ],
   "source": [
    "from ucimlrepo import fetch_ucirepo \n",
    "from sklearn.preprocessing import LabelEncoder, OrdinalEncoder\n",
    "  \n",
    "# fetch dataset \n",
    "car_evaluation = fetch_ucirepo(id=19) \n",
    "  \n",
    "# data (as pandas dataframes) \n",
    "X = car_evaluation.data.features \n",
    "y = car_evaluation.data.targets \n",
    "print(X.shape)\n",
    "print(y.shape)\n",
    "# variable information \n",
    "print(car_evaluation.variables) "
   ]
  },
  {
   "cell_type": "code",
   "execution_count": 6,
   "id": "4c257970",
   "metadata": {
    "scrolled": false
   },
   "outputs": [
    {
     "data": {
      "text/html": [
       "<div>\n",
       "<style scoped>\n",
       "    .dataframe tbody tr th:only-of-type {\n",
       "        vertical-align: middle;\n",
       "    }\n",
       "\n",
       "    .dataframe tbody tr th {\n",
       "        vertical-align: top;\n",
       "    }\n",
       "\n",
       "    .dataframe thead th {\n",
       "        text-align: right;\n",
       "    }\n",
       "</style>\n",
       "<table border=\"1\" class=\"dataframe\">\n",
       "  <thead>\n",
       "    <tr style=\"text-align: right;\">\n",
       "      <th></th>\n",
       "      <th>buying</th>\n",
       "      <th>maint</th>\n",
       "      <th>doors</th>\n",
       "      <th>persons</th>\n",
       "      <th>lug_boot</th>\n",
       "      <th>safety</th>\n",
       "    </tr>\n",
       "  </thead>\n",
       "  <tbody>\n",
       "    <tr>\n",
       "      <th>0</th>\n",
       "      <td>vhigh</td>\n",
       "      <td>vhigh</td>\n",
       "      <td>2</td>\n",
       "      <td>2</td>\n",
       "      <td>small</td>\n",
       "      <td>low</td>\n",
       "    </tr>\n",
       "    <tr>\n",
       "      <th>1</th>\n",
       "      <td>vhigh</td>\n",
       "      <td>vhigh</td>\n",
       "      <td>2</td>\n",
       "      <td>2</td>\n",
       "      <td>small</td>\n",
       "      <td>med</td>\n",
       "    </tr>\n",
       "    <tr>\n",
       "      <th>2</th>\n",
       "      <td>vhigh</td>\n",
       "      <td>vhigh</td>\n",
       "      <td>2</td>\n",
       "      <td>2</td>\n",
       "      <td>small</td>\n",
       "      <td>high</td>\n",
       "    </tr>\n",
       "    <tr>\n",
       "      <th>3</th>\n",
       "      <td>vhigh</td>\n",
       "      <td>vhigh</td>\n",
       "      <td>2</td>\n",
       "      <td>2</td>\n",
       "      <td>med</td>\n",
       "      <td>low</td>\n",
       "    </tr>\n",
       "    <tr>\n",
       "      <th>4</th>\n",
       "      <td>vhigh</td>\n",
       "      <td>vhigh</td>\n",
       "      <td>2</td>\n",
       "      <td>2</td>\n",
       "      <td>med</td>\n",
       "      <td>med</td>\n",
       "    </tr>\n",
       "    <tr>\n",
       "      <th>5</th>\n",
       "      <td>vhigh</td>\n",
       "      <td>vhigh</td>\n",
       "      <td>2</td>\n",
       "      <td>2</td>\n",
       "      <td>med</td>\n",
       "      <td>high</td>\n",
       "    </tr>\n",
       "    <tr>\n",
       "      <th>6</th>\n",
       "      <td>vhigh</td>\n",
       "      <td>vhigh</td>\n",
       "      <td>2</td>\n",
       "      <td>2</td>\n",
       "      <td>big</td>\n",
       "      <td>low</td>\n",
       "    </tr>\n",
       "    <tr>\n",
       "      <th>7</th>\n",
       "      <td>vhigh</td>\n",
       "      <td>vhigh</td>\n",
       "      <td>2</td>\n",
       "      <td>2</td>\n",
       "      <td>big</td>\n",
       "      <td>med</td>\n",
       "    </tr>\n",
       "    <tr>\n",
       "      <th>8</th>\n",
       "      <td>vhigh</td>\n",
       "      <td>vhigh</td>\n",
       "      <td>2</td>\n",
       "      <td>2</td>\n",
       "      <td>big</td>\n",
       "      <td>high</td>\n",
       "    </tr>\n",
       "    <tr>\n",
       "      <th>9</th>\n",
       "      <td>vhigh</td>\n",
       "      <td>vhigh</td>\n",
       "      <td>2</td>\n",
       "      <td>4</td>\n",
       "      <td>small</td>\n",
       "      <td>low</td>\n",
       "    </tr>\n",
       "    <tr>\n",
       "      <th>10</th>\n",
       "      <td>vhigh</td>\n",
       "      <td>vhigh</td>\n",
       "      <td>2</td>\n",
       "      <td>4</td>\n",
       "      <td>small</td>\n",
       "      <td>med</td>\n",
       "    </tr>\n",
       "    <tr>\n",
       "      <th>11</th>\n",
       "      <td>vhigh</td>\n",
       "      <td>vhigh</td>\n",
       "      <td>2</td>\n",
       "      <td>4</td>\n",
       "      <td>small</td>\n",
       "      <td>high</td>\n",
       "    </tr>\n",
       "    <tr>\n",
       "      <th>12</th>\n",
       "      <td>vhigh</td>\n",
       "      <td>vhigh</td>\n",
       "      <td>2</td>\n",
       "      <td>4</td>\n",
       "      <td>med</td>\n",
       "      <td>low</td>\n",
       "    </tr>\n",
       "    <tr>\n",
       "      <th>13</th>\n",
       "      <td>vhigh</td>\n",
       "      <td>vhigh</td>\n",
       "      <td>2</td>\n",
       "      <td>4</td>\n",
       "      <td>med</td>\n",
       "      <td>med</td>\n",
       "    </tr>\n",
       "    <tr>\n",
       "      <th>14</th>\n",
       "      <td>vhigh</td>\n",
       "      <td>vhigh</td>\n",
       "      <td>2</td>\n",
       "      <td>4</td>\n",
       "      <td>med</td>\n",
       "      <td>high</td>\n",
       "    </tr>\n",
       "    <tr>\n",
       "      <th>15</th>\n",
       "      <td>vhigh</td>\n",
       "      <td>vhigh</td>\n",
       "      <td>2</td>\n",
       "      <td>4</td>\n",
       "      <td>big</td>\n",
       "      <td>low</td>\n",
       "    </tr>\n",
       "    <tr>\n",
       "      <th>16</th>\n",
       "      <td>vhigh</td>\n",
       "      <td>vhigh</td>\n",
       "      <td>2</td>\n",
       "      <td>4</td>\n",
       "      <td>big</td>\n",
       "      <td>med</td>\n",
       "    </tr>\n",
       "    <tr>\n",
       "      <th>17</th>\n",
       "      <td>vhigh</td>\n",
       "      <td>vhigh</td>\n",
       "      <td>2</td>\n",
       "      <td>4</td>\n",
       "      <td>big</td>\n",
       "      <td>high</td>\n",
       "    </tr>\n",
       "    <tr>\n",
       "      <th>18</th>\n",
       "      <td>vhigh</td>\n",
       "      <td>vhigh</td>\n",
       "      <td>2</td>\n",
       "      <td>more</td>\n",
       "      <td>small</td>\n",
       "      <td>low</td>\n",
       "    </tr>\n",
       "    <tr>\n",
       "      <th>19</th>\n",
       "      <td>vhigh</td>\n",
       "      <td>vhigh</td>\n",
       "      <td>2</td>\n",
       "      <td>more</td>\n",
       "      <td>small</td>\n",
       "      <td>med</td>\n",
       "    </tr>\n",
       "  </tbody>\n",
       "</table>\n",
       "</div>"
      ],
      "text/plain": [
       "   buying  maint doors persons lug_boot safety\n",
       "0   vhigh  vhigh     2       2    small    low\n",
       "1   vhigh  vhigh     2       2    small    med\n",
       "2   vhigh  vhigh     2       2    small   high\n",
       "3   vhigh  vhigh     2       2      med    low\n",
       "4   vhigh  vhigh     2       2      med    med\n",
       "5   vhigh  vhigh     2       2      med   high\n",
       "6   vhigh  vhigh     2       2      big    low\n",
       "7   vhigh  vhigh     2       2      big    med\n",
       "8   vhigh  vhigh     2       2      big   high\n",
       "9   vhigh  vhigh     2       4    small    low\n",
       "10  vhigh  vhigh     2       4    small    med\n",
       "11  vhigh  vhigh     2       4    small   high\n",
       "12  vhigh  vhigh     2       4      med    low\n",
       "13  vhigh  vhigh     2       4      med    med\n",
       "14  vhigh  vhigh     2       4      med   high\n",
       "15  vhigh  vhigh     2       4      big    low\n",
       "16  vhigh  vhigh     2       4      big    med\n",
       "17  vhigh  vhigh     2       4      big   high\n",
       "18  vhigh  vhigh     2    more    small    low\n",
       "19  vhigh  vhigh     2    more    small    med"
      ]
     },
     "execution_count": 6,
     "metadata": {},
     "output_type": "execute_result"
    }
   ],
   "source": [
    "X.head(20)"
   ]
  },
  {
   "cell_type": "code",
   "execution_count": 7,
   "id": "0935a46e",
   "metadata": {},
   "outputs": [
    {
     "name": "stdout",
     "output_type": "stream",
     "text": [
      "buying: ['vhigh' 'high' 'med' 'low']\n",
      "maint: ['vhigh' 'high' 'med' 'low']\n",
      "doors: ['2' '3' '4' '5more']\n",
      "persons: ['2' '4' 'more']\n",
      "lug_boot: ['small' 'med' 'big']\n",
      "safety: ['low' 'med' 'high']\n"
     ]
    }
   ],
   "source": [
    "for col in X:\n",
    "    unique_vals = X[col].unique()\n",
    "    print(\"{}: {}\".format(col, unique_vals))"
   ]
  },
  {
   "cell_type": "code",
   "execution_count": 8,
   "id": "9e522d17",
   "metadata": {
    "scrolled": false
   },
   "outputs": [
    {
     "data": {
      "text/plain": [
       "class\n",
       "unacc    1210\n",
       "acc       384\n",
       "good       69\n",
       "vgood      65\n",
       "dtype: int64"
      ]
     },
     "execution_count": 8,
     "metadata": {},
     "output_type": "execute_result"
    }
   ],
   "source": [
    "# Display total counts for each of the unique values in the label column.\n",
    "y.value_counts()"
   ]
  },
  {
   "cell_type": "markdown",
   "id": "1dddf8de",
   "metadata": {},
   "source": [
    "## Data Preprocessing\n",
    "#### Encoding Categorical Data\n",
    "I found that the although original dataset is categorical variables, it **contains order such as \"vhigh, high, med, low\"** in the whole dataset, so I tried two categorical data encoding method.\n",
    "\n",
    "#### Pros and cons of treating ordinal data as categorical or ordinal dataset\n",
    "1. Pros and cons of one hot encoding   \n",
    "* Pros: The effect of the ordering may not be all that big or all that important, and we will not overstate the result   \n",
    "* Cons: Losing ordinal information, because we treat is as 0 or 1; when the original datase is large, it may fall into the curse of dimensionality  \n",
    "\n",
    "2. Pros and cons of ordinal dataset    \n",
    "* Pros: Preserves the information of ordering  \n",
    "* Cons: Requires the assumption that the numerical distance between each set of subsequent categories is equal  "
   ]
  },
  {
   "cell_type": "markdown",
   "id": "7508c169",
   "metadata": {},
   "source": [
    "### 1. One Hot Encoding dataset"
   ]
  },
  {
   "cell_type": "code",
   "execution_count": 9,
   "id": "7592d9ef",
   "metadata": {},
   "outputs": [
    {
     "data": {
      "text/html": [
       "<div>\n",
       "<style scoped>\n",
       "    .dataframe tbody tr th:only-of-type {\n",
       "        vertical-align: middle;\n",
       "    }\n",
       "\n",
       "    .dataframe tbody tr th {\n",
       "        vertical-align: top;\n",
       "    }\n",
       "\n",
       "    .dataframe thead th {\n",
       "        text-align: right;\n",
       "    }\n",
       "</style>\n",
       "<table border=\"1\" class=\"dataframe\">\n",
       "  <thead>\n",
       "    <tr style=\"text-align: right;\">\n",
       "      <th></th>\n",
       "      <th>buying_low</th>\n",
       "      <th>buying_med</th>\n",
       "      <th>buying_vhigh</th>\n",
       "      <th>maint_low</th>\n",
       "      <th>maint_med</th>\n",
       "      <th>maint_vhigh</th>\n",
       "      <th>doors_3</th>\n",
       "      <th>doors_4</th>\n",
       "      <th>doors_5more</th>\n",
       "      <th>persons_4</th>\n",
       "      <th>persons_more</th>\n",
       "      <th>lug_boot_med</th>\n",
       "      <th>lug_boot_small</th>\n",
       "      <th>safety_low</th>\n",
       "      <th>safety_med</th>\n",
       "    </tr>\n",
       "  </thead>\n",
       "  <tbody>\n",
       "    <tr>\n",
       "      <th>0</th>\n",
       "      <td>0</td>\n",
       "      <td>0</td>\n",
       "      <td>1</td>\n",
       "      <td>0</td>\n",
       "      <td>0</td>\n",
       "      <td>1</td>\n",
       "      <td>0</td>\n",
       "      <td>0</td>\n",
       "      <td>0</td>\n",
       "      <td>0</td>\n",
       "      <td>0</td>\n",
       "      <td>0</td>\n",
       "      <td>1</td>\n",
       "      <td>1</td>\n",
       "      <td>0</td>\n",
       "    </tr>\n",
       "    <tr>\n",
       "      <th>1</th>\n",
       "      <td>0</td>\n",
       "      <td>0</td>\n",
       "      <td>1</td>\n",
       "      <td>0</td>\n",
       "      <td>0</td>\n",
       "      <td>1</td>\n",
       "      <td>0</td>\n",
       "      <td>0</td>\n",
       "      <td>0</td>\n",
       "      <td>0</td>\n",
       "      <td>0</td>\n",
       "      <td>0</td>\n",
       "      <td>1</td>\n",
       "      <td>0</td>\n",
       "      <td>1</td>\n",
       "    </tr>\n",
       "    <tr>\n",
       "      <th>2</th>\n",
       "      <td>0</td>\n",
       "      <td>0</td>\n",
       "      <td>1</td>\n",
       "      <td>0</td>\n",
       "      <td>0</td>\n",
       "      <td>1</td>\n",
       "      <td>0</td>\n",
       "      <td>0</td>\n",
       "      <td>0</td>\n",
       "      <td>0</td>\n",
       "      <td>0</td>\n",
       "      <td>0</td>\n",
       "      <td>1</td>\n",
       "      <td>0</td>\n",
       "      <td>0</td>\n",
       "    </tr>\n",
       "    <tr>\n",
       "      <th>3</th>\n",
       "      <td>0</td>\n",
       "      <td>0</td>\n",
       "      <td>1</td>\n",
       "      <td>0</td>\n",
       "      <td>0</td>\n",
       "      <td>1</td>\n",
       "      <td>0</td>\n",
       "      <td>0</td>\n",
       "      <td>0</td>\n",
       "      <td>0</td>\n",
       "      <td>0</td>\n",
       "      <td>1</td>\n",
       "      <td>0</td>\n",
       "      <td>1</td>\n",
       "      <td>0</td>\n",
       "    </tr>\n",
       "    <tr>\n",
       "      <th>4</th>\n",
       "      <td>0</td>\n",
       "      <td>0</td>\n",
       "      <td>1</td>\n",
       "      <td>0</td>\n",
       "      <td>0</td>\n",
       "      <td>1</td>\n",
       "      <td>0</td>\n",
       "      <td>0</td>\n",
       "      <td>0</td>\n",
       "      <td>0</td>\n",
       "      <td>0</td>\n",
       "      <td>1</td>\n",
       "      <td>0</td>\n",
       "      <td>0</td>\n",
       "      <td>1</td>\n",
       "    </tr>\n",
       "  </tbody>\n",
       "</table>\n",
       "</div>"
      ],
      "text/plain": [
       "   buying_low  buying_med  buying_vhigh  maint_low  maint_med  maint_vhigh  \\\n",
       "0           0           0             1          0          0            1   \n",
       "1           0           0             1          0          0            1   \n",
       "2           0           0             1          0          0            1   \n",
       "3           0           0             1          0          0            1   \n",
       "4           0           0             1          0          0            1   \n",
       "\n",
       "   doors_3  doors_4  doors_5more  persons_4  persons_more  lug_boot_med  \\\n",
       "0        0        0            0          0             0             0   \n",
       "1        0        0            0          0             0             0   \n",
       "2        0        0            0          0             0             0   \n",
       "3        0        0            0          0             0             1   \n",
       "4        0        0            0          0             0             1   \n",
       "\n",
       "   lug_boot_small  safety_low  safety_med  \n",
       "0               1           1           0  \n",
       "1               1           0           1  \n",
       "2               1           0           0  \n",
       "3               0           1           0  \n",
       "4               0           0           1  "
      ]
     },
     "execution_count": 9,
     "metadata": {},
     "output_type": "execute_result"
    }
   ],
   "source": [
    "X_encoded = pd.get_dummies(X, columns = ['buying', 'maint', 'doors', 'persons', 'lug_boot', 'safety'], drop_first=True)\n",
    "X_encoded.head()"
   ]
  },
  {
   "cell_type": "code",
   "execution_count": 10,
   "id": "6fcca0c9",
   "metadata": {
    "scrolled": true
   },
   "outputs": [
    {
     "data": {
      "text/html": [
       "<div>\n",
       "<style scoped>\n",
       "    .dataframe tbody tr th:only-of-type {\n",
       "        vertical-align: middle;\n",
       "    }\n",
       "\n",
       "    .dataframe tbody tr th {\n",
       "        vertical-align: top;\n",
       "    }\n",
       "\n",
       "    .dataframe thead th {\n",
       "        text-align: right;\n",
       "    }\n",
       "</style>\n",
       "<table border=\"1\" class=\"dataframe\">\n",
       "  <thead>\n",
       "    <tr style=\"text-align: right;\">\n",
       "      <th></th>\n",
       "      <th>class_good</th>\n",
       "      <th>class_unacc</th>\n",
       "      <th>class_vgood</th>\n",
       "    </tr>\n",
       "  </thead>\n",
       "  <tbody>\n",
       "    <tr>\n",
       "      <th>0</th>\n",
       "      <td>0</td>\n",
       "      <td>1</td>\n",
       "      <td>0</td>\n",
       "    </tr>\n",
       "    <tr>\n",
       "      <th>1</th>\n",
       "      <td>0</td>\n",
       "      <td>1</td>\n",
       "      <td>0</td>\n",
       "    </tr>\n",
       "    <tr>\n",
       "      <th>2</th>\n",
       "      <td>0</td>\n",
       "      <td>1</td>\n",
       "      <td>0</td>\n",
       "    </tr>\n",
       "    <tr>\n",
       "      <th>3</th>\n",
       "      <td>0</td>\n",
       "      <td>1</td>\n",
       "      <td>0</td>\n",
       "    </tr>\n",
       "    <tr>\n",
       "      <th>4</th>\n",
       "      <td>0</td>\n",
       "      <td>1</td>\n",
       "      <td>0</td>\n",
       "    </tr>\n",
       "  </tbody>\n",
       "</table>\n",
       "</div>"
      ],
      "text/plain": [
       "   class_good  class_unacc  class_vgood\n",
       "0           0            1            0\n",
       "1           0            1            0\n",
       "2           0            1            0\n",
       "3           0            1            0\n",
       "4           0            1            0"
      ]
     },
     "execution_count": 10,
     "metadata": {},
     "output_type": "execute_result"
    }
   ],
   "source": [
    "y_encoded = pd.get_dummies(y, columns = ['class'], drop_first=True)\n",
    "y_encoded.head()"
   ]
  },
  {
   "cell_type": "code",
   "execution_count": 11,
   "id": "b3f10b9a",
   "metadata": {
    "scrolled": true
   },
   "outputs": [
    {
     "data": {
      "text/plain": [
       "(1728, 15)"
      ]
     },
     "execution_count": 11,
     "metadata": {},
     "output_type": "execute_result"
    }
   ],
   "source": [
    "X_encoded.shape"
   ]
  },
  {
   "cell_type": "code",
   "execution_count": 12,
   "id": "baa7c600",
   "metadata": {},
   "outputs": [
    {
     "data": {
      "text/plain": [
       "(1728, 3)"
      ]
     },
     "execution_count": 12,
     "metadata": {},
     "output_type": "execute_result"
    }
   ],
   "source": [
    "y_encoded.shape"
   ]
  },
  {
   "cell_type": "markdown",
   "id": "dd2139f8",
   "metadata": {},
   "source": [
    "### 2. Ordinal dataset"
   ]
  },
  {
   "cell_type": "code",
   "execution_count": 109,
   "id": "4c40fd23",
   "metadata": {},
   "outputs": [],
   "source": [
    "X_order = X.copy()\n",
    "y_order = y.copy()"
   ]
  },
  {
   "cell_type": "code",
   "execution_count": 110,
   "id": "b704b64c",
   "metadata": {
    "scrolled": false
   },
   "outputs": [
    {
     "data": {
      "text/html": [
       "<div>\n",
       "<style scoped>\n",
       "    .dataframe tbody tr th:only-of-type {\n",
       "        vertical-align: middle;\n",
       "    }\n",
       "\n",
       "    .dataframe tbody tr th {\n",
       "        vertical-align: top;\n",
       "    }\n",
       "\n",
       "    .dataframe thead th {\n",
       "        text-align: right;\n",
       "    }\n",
       "</style>\n",
       "<table border=\"1\" class=\"dataframe\">\n",
       "  <thead>\n",
       "    <tr style=\"text-align: right;\">\n",
       "      <th></th>\n",
       "      <th>class_ordinal</th>\n",
       "    </tr>\n",
       "  </thead>\n",
       "  <tbody>\n",
       "    <tr>\n",
       "      <th>1723</th>\n",
       "      <td>2</td>\n",
       "    </tr>\n",
       "    <tr>\n",
       "      <th>1724</th>\n",
       "      <td>3</td>\n",
       "    </tr>\n",
       "    <tr>\n",
       "      <th>1725</th>\n",
       "      <td>0</td>\n",
       "    </tr>\n",
       "    <tr>\n",
       "      <th>1726</th>\n",
       "      <td>2</td>\n",
       "    </tr>\n",
       "    <tr>\n",
       "      <th>1727</th>\n",
       "      <td>3</td>\n",
       "    </tr>\n",
       "  </tbody>\n",
       "</table>\n",
       "</div>"
      ],
      "text/plain": [
       "      class_ordinal\n",
       "1723              2\n",
       "1724              3\n",
       "1725              0\n",
       "1726              2\n",
       "1727              3"
      ]
     },
     "execution_count": 110,
     "metadata": {},
     "output_type": "execute_result"
    }
   ],
   "source": [
    "# Create the new encoded columns in the DataFrame by mapping the feature and label columns with the desired order.\n",
    "X_order['buying_ordinal'] = X_order['buying'].map({'low':0, 'med':1, 'high':2, 'vhigh':3})\n",
    "X_order['maint_ordinal'] = X_order['maint'].map({'low':0, 'med':1, 'high':2, 'vhigh':3})\n",
    "X_order['doors_ordinal'] = X_order['doors'].map({'2':0, '3':1, '4':2, '5more':3})\n",
    "X_order['persons_ordinal'] = X_order['persons'].map({'2':0, '4':1, 'more':2})\n",
    "X_order['lug_boot_ordinal'] = X_order['lug_boot'].map({'small':0, 'med':1, 'big':2})\n",
    "X_order['safety_ordinal'] = X_order['safety'].map({'low':0, 'med':1, 'high':2})\n",
    "y_order['class_ordinal'] = y_order['class'].map({'unacc':0, 'acc':1, 'good':2, 'vgood':3})\n",
    "# Remove the original columns.\n",
    "X_order.drop(columns=['buying', 'maint', 'doors', 'persons', 'lug_boot', 'safety'], inplace=True)\n",
    "y_order.drop(columns=['class'], inplace=True)\n",
    "\n",
    "# View last five rows of DataFrame.\n",
    "y_order.tail()"
   ]
  },
  {
   "cell_type": "code",
   "execution_count": 111,
   "id": "9408c8db",
   "metadata": {},
   "outputs": [
    {
     "data": {
      "text/html": [
       "<div>\n",
       "<style scoped>\n",
       "    .dataframe tbody tr th:only-of-type {\n",
       "        vertical-align: middle;\n",
       "    }\n",
       "\n",
       "    .dataframe tbody tr th {\n",
       "        vertical-align: top;\n",
       "    }\n",
       "\n",
       "    .dataframe thead th {\n",
       "        text-align: right;\n",
       "    }\n",
       "</style>\n",
       "<table border=\"1\" class=\"dataframe\">\n",
       "  <thead>\n",
       "    <tr style=\"text-align: right;\">\n",
       "      <th></th>\n",
       "      <th>buying_ordinal</th>\n",
       "      <th>maint_ordinal</th>\n",
       "      <th>doors_ordinal</th>\n",
       "      <th>persons_ordinal</th>\n",
       "      <th>lug_boot_ordinal</th>\n",
       "      <th>safety_ordinal</th>\n",
       "    </tr>\n",
       "  </thead>\n",
       "  <tbody>\n",
       "    <tr>\n",
       "      <th>1723</th>\n",
       "      <td>0</td>\n",
       "      <td>0</td>\n",
       "      <td>3</td>\n",
       "      <td>2</td>\n",
       "      <td>1</td>\n",
       "      <td>1</td>\n",
       "    </tr>\n",
       "    <tr>\n",
       "      <th>1724</th>\n",
       "      <td>0</td>\n",
       "      <td>0</td>\n",
       "      <td>3</td>\n",
       "      <td>2</td>\n",
       "      <td>1</td>\n",
       "      <td>2</td>\n",
       "    </tr>\n",
       "    <tr>\n",
       "      <th>1725</th>\n",
       "      <td>0</td>\n",
       "      <td>0</td>\n",
       "      <td>3</td>\n",
       "      <td>2</td>\n",
       "      <td>2</td>\n",
       "      <td>0</td>\n",
       "    </tr>\n",
       "    <tr>\n",
       "      <th>1726</th>\n",
       "      <td>0</td>\n",
       "      <td>0</td>\n",
       "      <td>3</td>\n",
       "      <td>2</td>\n",
       "      <td>2</td>\n",
       "      <td>1</td>\n",
       "    </tr>\n",
       "    <tr>\n",
       "      <th>1727</th>\n",
       "      <td>0</td>\n",
       "      <td>0</td>\n",
       "      <td>3</td>\n",
       "      <td>2</td>\n",
       "      <td>2</td>\n",
       "      <td>2</td>\n",
       "    </tr>\n",
       "  </tbody>\n",
       "</table>\n",
       "</div>"
      ],
      "text/plain": [
       "      buying_ordinal  maint_ordinal  doors_ordinal  persons_ordinal  \\\n",
       "1723               0              0              3                2   \n",
       "1724               0              0              3                2   \n",
       "1725               0              0              3                2   \n",
       "1726               0              0              3                2   \n",
       "1727               0              0              3                2   \n",
       "\n",
       "      lug_boot_ordinal  safety_ordinal  \n",
       "1723                 1               1  \n",
       "1724                 1               2  \n",
       "1725                 2               0  \n",
       "1726                 2               1  \n",
       "1727                 2               2  "
      ]
     },
     "execution_count": 111,
     "metadata": {},
     "output_type": "execute_result"
    }
   ],
   "source": [
    "X_order.tail()"
   ]
  },
  {
   "cell_type": "markdown",
   "id": "d4001f8c",
   "metadata": {},
   "source": [
    "## Build the five models\n",
    "I tried to build five models with **one hot encoding data** and **ordinal data**:\n",
    "1. Decision tree\n",
    "2. Logistic regression\n",
    "3. KNN\n",
    "4. Naïve Bayes classifier\n",
    "5. Support vector machine"
   ]
  },
  {
   "cell_type": "code",
   "execution_count": 45,
   "id": "bbe55248",
   "metadata": {
    "scrolled": true
   },
   "outputs": [
    {
     "name": "stdout",
     "output_type": "stream",
     "text": [
      "Mean score of decision tree:\n",
      " 0.9398022953840999\n",
      "Mean score of Logistic regression:\n",
      " 0.897555499706794\n",
      "Mean score of KNN:\n",
      " 0.8477909022367429\n",
      "Mean score of Naiye Bayes:\n",
      " 0.8477909022367429\n",
      "Mean score of SVM:\n",
      " 0.9953723716176593\n"
     ]
    }
   ],
   "source": [
    "import warnings\n",
    "\n",
    "# Use filterwarnings to suppress specific warning\n",
    "warnings.filterwarnings(\"ignore\") \n",
    "\n",
    "#Define the inner and outer loops\n",
    "inner_cv = KFold(n_splits = 5, shuffle=True, random_state=1)\n",
    "outer_cv = KFold(n_splits = 5, shuffle=True, random_state=1)\n",
    "#scoring = ['precision', 'recall', 'f1', 'accuracy']\n",
    "\n",
    "#Set the hyperparameters of separate models\n",
    "dt_grid = {'max_depth':range(1,21),\n",
    "          'min_samples_split':range(1,21),\n",
    "          'criterion':['gini']}\n",
    "\n",
    "lr_grid = {'penalty':['l1', 'l2'],\n",
    "           'C':[0.001, 0.01, 0.1, 1, 10, 100, 1000],\n",
    "           'multi_class':['ovr'],\n",
    "           'solver' :['liblinear']}\n",
    "\n",
    "knn_grid = {'n_neighbors':range(1,21),\n",
    "            'leaf_size':range(1,11),\n",
    "            'weights':['uniform']}\n",
    "\n",
    "nb_grid = {'var_smoothing': np.logspace(0,-9, num=100)}\n",
    "\n",
    "svc_grid = {\"C\": [1, 10, 100],\n",
    "            \"gamma\": [0.01, 0.001, 0.0001, 0.1],\n",
    "            'kernel': ['rbf', 'poly', 'linear']}\n",
    "\n",
    "dt = tree.DecisionTreeClassifier()\n",
    "lr = LogisticRegression()\n",
    "knn = neighbors.KNeighborsClassifier()\n",
    "svm = SVC()\n",
    "gnb = GaussianNB()\n",
    "svm.probability = True\n",
    "\n",
    "#Create inner loop cv using GridSearchCV\n",
    "dt_clf = GridSearchCV(estimator=dt, param_grid=dt_grid, cv=inner_cv, refit=True)\n",
    "lr_clf = GridSearchCV(estimator=lr, param_grid=lr_grid, cv=inner_cv, refit=True)\n",
    "knn_clf = GridSearchCV(estimator=knn, param_grid=knn_grid, cv=inner_cv, refit=True)\n",
    "nb_clf = GridSearchCV(estimator=gnb, param_grid=nb_grid, cv=inner_cv, refit=True)\n",
    "svc_clf = GridSearchCV(estimator=svm, param_grid=svc_grid, cv=inner_cv, refit=True)\n",
    "\n",
    "#Create outer loop cv using cross_val_score\n",
    "dt_score = cross_val_score(dt_clf, X=X_encoded, y=y, cv=outer_cv)\n",
    "print(\"Mean score of decision tree:\\n\", dt_score.mean())\n",
    "\n",
    "lr_score = cross_val_score(lr_clf, X=X_encoded, y=y, cv=outer_cv)\n",
    "print(\"Mean score of Logistic regression:\\n\", lr_score.mean())\n",
    "\n",
    "knn_score = cross_val_score(knn_clf, X=X_encoded, y=y, cv=outer_cv)\n",
    "print(\"Mean score of KNN:\\n\", knn_score.mean())\n",
    "\n",
    "nb_score = cross_val_score(knn_clf, X=X_encoded, y=y, cv=outer_cv)\n",
    "print(\"Mean score of Naiye Bayes:\\n\", knn_score.mean())\n",
    "\n",
    "svc_score = cross_val_score(svc_clf, X=X_encoded, y=y, cv=outer_cv)\n",
    "print(\"Mean score of SVM:\\n\", svc_score.mean())"
   ]
  },
  {
   "cell_type": "code",
   "execution_count": 19,
   "id": "45cd1c3c",
   "metadata": {
    "scrolled": true
   },
   "outputs": [
    {
     "name": "stdout",
     "output_type": "stream",
     "text": [
      "Mean score of decision tree:\n",
      " 0.9826405294462596\n",
      "Mean score of Logistic regression:\n",
      " 0.8177012649744493\n",
      "Mean score of KNN:\n",
      " 0.9369272011393148\n",
      "Mean score of Naiye Bayes:\n",
      " 0.9369272011393148\n",
      "Mean score of SVM:\n",
      " 0.9843880371952751\n"
     ]
    }
   ],
   "source": [
    "import warnings\n",
    "\n",
    "# Use filterwarnings to suppress specific warning\n",
    "warnings.filterwarnings(\"ignore\") \n",
    "\n",
    "#Define the inner and outer loops\n",
    "inner_cv = KFold(n_splits = 5, shuffle=True, random_state=1)\n",
    "outer_cv = KFold(n_splits = 5, shuffle=True, random_state=1)\n",
    "#scoring = ['precision', 'recall', 'f1', 'accuracy']\n",
    "\n",
    "#Set the hyperparameters of separate models\n",
    "dt_grid = {'max_depth':range(1,21),\n",
    "          'min_samples_split':range(2,21),\n",
    "          'criterion':['gini']}\n",
    "\n",
    "lr_grid = {'penalty':['l1', 'l2'],\n",
    "           'C':[0.001, 0.01, 0.1, 1, 10, 100, 1000],\n",
    "           'multi_class':['auto'],\n",
    "           'solver' :['liblinear']}\n",
    "\n",
    "knn_grid = {'n_neighbors':range(1,21),\n",
    "            'leaf_size':range(1,11),\n",
    "            'weights':['uniform']}\n",
    "\n",
    "nb_grid = {'var_smoothing': np.logspace(0,-9, num=100)}\n",
    "\n",
    "svc_grid = {\"C\": [0.001, 0.01, 0.1, 1, 10, 100, 1000],\n",
    "            \"gamma\": [0.01, 0.001, 0.0001, 0.1],\n",
    "            'kernel': ['rbf', 'poly', 'linear']}\n",
    "\n",
    "dt = tree.DecisionTreeClassifier()\n",
    "lr = LogisticRegression()\n",
    "knn = neighbors.KNeighborsClassifier()\n",
    "svm = SVC()\n",
    "gnb = GaussianNB()\n",
    "svm.probability = True\n",
    "\n",
    "#Create inner loop cv using GridSearchCV\n",
    "dt_clf = GridSearchCV(estimator=dt, param_grid=dt_grid, cv=inner_cv, refit=True)\n",
    "lr_clf = GridSearchCV(estimator=lr, param_grid=lr_grid, cv=inner_cv, refit=True)\n",
    "knn_clf = GridSearchCV(estimator=knn, param_grid=knn_grid, cv=inner_cv, refit=True)\n",
    "nb_clf = GridSearchCV(estimator=gnb, param_grid=nb_grid, cv=inner_cv, refit=True)\n",
    "svc_clf = GridSearchCV(estimator=svm, param_grid=svc_grid, cv=inner_cv, refit=True)\n",
    "\n",
    "#Create outer loop cv using cross_val_score\n",
    "dt_score = cross_val_score(dt_clf, X=X_order, y=y_order, cv=outer_cv)\n",
    "print(\"Mean score of decision tree:\\n\", dt_score.mean())\n",
    "\n",
    "lr_score = cross_val_score(lr_clf, X=X_order, y=y_order, cv=outer_cv)\n",
    "print(\"Mean score of Logistic regression:\\n\", lr_score.mean())\n",
    "\n",
    "knn_score = cross_val_score(knn_clf, X=X_order, y=y_order, cv=outer_cv)\n",
    "print(\"Mean score of KNN:\\n\", knn_score.mean())\n",
    "\n",
    "nb_score = cross_val_score(knn_clf, X=X_order, y=y_order, cv=outer_cv)\n",
    "print(\"Mean score of Naiye Bayes:\\n\", knn_score.mean())\n",
    "\n",
    "svc_score = cross_val_score(svc_clf, X=X_order, y=y_order, cv=outer_cv)\n",
    "print(\"Mean score of SVM:\\n\", svc_score.mean())"
   ]
  },
  {
   "cell_type": "markdown",
   "id": "342ab3d9",
   "metadata": {},
   "source": [
    "### Overall model performance comparison\n",
    "**1. Models of One hot encoding vs. Ordinal dataset**   \n",
    "* Overall models with ordernal dataset perform better than one hot encoding dataset.  \n",
    "\n",
    "**2. Models comparision of ordinal dataset**  \n",
    "* In the five models with ordinal data, I found that **mean scores of mostly models are up to 90%, and support vector machine performs the best.** Thus I use SVM to rebuild the model and tune hyperparameters again.\n",
    "\n",
    "**3. Model comparison**\n",
    "Model | Mean accuracy of categorical data | Mean accuracy of ordinal data\n",
    "--- | --- | --- \n",
    "Decision Tree | 0.94 | 0.98 \n",
    "Logistic Regression | 0.90 | 0.82 \n",
    "KNN | 0.85 | 0.94 \n",
    "Naive Bayes | 0.85 | 0.94 \n",
    "**SVM** | **0.99** | **0.98** "
   ]
  },
  {
   "cell_type": "markdown",
   "id": "c9d804b3",
   "metadata": {},
   "source": [
    "## Final model using the best performance of model - SVM\n",
    "SVM of ordinal data shows the most stable and robust performance, so I choose SVM to rebuild and tune hyperparameters again."
   ]
  },
  {
   "cell_type": "code",
   "execution_count": 33,
   "id": "5b52dea8",
   "metadata": {},
   "outputs": [],
   "source": [
    "#X_train_order, X_test_order, y_train_order, y_test_order = train_test_split(X_order, y_order, test_size=0.3, random_state=20)\n",
    "X_train_enc, X_test_enc, y_train_enc, y_test_enc = train_test_split(X_encoded, y, test_size=0.3, random_state=20)"
   ]
  },
  {
   "cell_type": "code",
   "execution_count": 34,
   "id": "3aaef80f",
   "metadata": {},
   "outputs": [],
   "source": [
    "X_train_order, X_test_order, y_train_order, y_test_order = train_test_split(X_order, y, test_size=0.3, random_state=20)"
   ]
  },
  {
   "cell_type": "code",
   "execution_count": 35,
   "id": "1a9cea8e",
   "metadata": {},
   "outputs": [
    {
     "name": "stdout",
     "output_type": "stream",
     "text": [
      "(1209, 6)\n",
      "(519, 6)\n",
      "(1209, 1)\n",
      "(519, 1)\n"
     ]
    }
   ],
   "source": [
    "print(X_train_order.shape)\n",
    "print(X_test_order.shape)\n",
    "print(y_train_order.shape)\n",
    "print(y_test_order.shape)"
   ]
  },
  {
   "cell_type": "code",
   "execution_count": 36,
   "id": "40494627",
   "metadata": {},
   "outputs": [
    {
     "data": {
      "text/plain": [
       "{'C': 10, 'gamma': 1, 'kernel': 'rbf'}"
      ]
     },
     "execution_count": 36,
     "metadata": {},
     "output_type": "execute_result"
    }
   ],
   "source": [
    "warnings.filterwarnings(\"ignore\") \n",
    "inner_cv = KFold(n_splits = 5, shuffle=True, random_state=20)\n",
    "\n",
    "# Build the model again using the best model\n",
    "svc_grid_tune = {\"C\": [0.1, 1, 10],\n",
    "            \"gamma\": [0.1, 1, 10],\n",
    "            'kernel': ['rbf']}\n",
    "svm = SVC()\n",
    "svc_clf_final = GridSearchCV(estimator=svm, param_grid=svc_grid_tune, cv = inner_cv)\n",
    "svc_clf_final.fit(X_train_order, y_train_order)\n",
    "svc_clf_final.best_params_"
   ]
  },
  {
   "cell_type": "code",
   "execution_count": 37,
   "id": "07203b3c",
   "metadata": {
    "scrolled": true
   },
   "outputs": [
    {
     "data": {
      "text/plain": [
       "{'C': 9.5, 'gamma': 1, 'kernel': 'rbf'}"
      ]
     },
     "execution_count": 37,
     "metadata": {},
     "output_type": "execute_result"
    }
   ],
   "source": [
    "warnings.filterwarnings(\"ignore\") \n",
    "inner_cv = KFold(n_splits = 5, shuffle=True, random_state=20)\n",
    "\n",
    "# Build the model again using the best model\n",
    "svc_grid_tune = {\"C\": [9.5, 10, 10.5],\n",
    "            \"gamma\": [0.1, 1, 10],\n",
    "            'kernel': ['rbf']}\n",
    "svm = SVC()\n",
    "svc_clf_final = GridSearchCV(estimator=svm, param_grid=svc_grid_tune, cv = inner_cv)\n",
    "svc_clf_final.fit(X_train_order, y_train_order)\n",
    "svc_clf_final.best_params_"
   ]
  },
  {
   "cell_type": "markdown",
   "id": "2f8a7a20",
   "metadata": {},
   "source": [
    "#### After final tuning hyperparameters, I got the best hyperparameters, build the model again, and make prediciton."
   ]
  },
  {
   "cell_type": "code",
   "execution_count": 114,
   "id": "4df7d790",
   "metadata": {
    "scrolled": false
   },
   "outputs": [
    {
     "name": "stdout",
     "output_type": "stream",
     "text": [
      "Confusion report of SVM:\n",
      "               precision    recall  f1-score   support\n",
      "\n",
      "         acc       0.97      0.97      0.97       117\n",
      "        good       0.95      1.00      0.98        20\n",
      "       unacc       0.99      1.00      0.99       361\n",
      "       vgood       1.00      0.90      0.95        21\n",
      "\n",
      "    accuracy                           0.99       519\n",
      "   macro avg       0.98      0.97      0.97       519\n",
      "weighted avg       0.99      0.99      0.99       519\n",
      "\n",
      "The kappa stats is:  0.9706843544990196\n",
      "The MCC stats is:  0.9707344473823967\n"
     ]
    }
   ],
   "source": [
    "warnings.filterwarnings(\"ignore\") \n",
    "svc_model = SVC(C = 9.5, gamma = 1, kernel= 'rbf', probability=True)\n",
    "svc_model.fit(X_train_order, y_train_order)\n",
    "y_pred_ord = svc_model.predict(X_test_order)\n",
    "y_pred_proba = svc_model.predict_proba(X_test_order)[:, 1]\n",
    "\n",
    "report_svc = classification_report(y_test_order, y_pred_ord)\n",
    "\n",
    "print(\"Confusion report of SVM:\\n\", report_svc)\n",
    "\n",
    "print(\"The kappa stats is: \", cohen_kappa_score(y_test_order, y_pred_ord))\n",
    "print(\"The MCC stats is: \", matthews_corrcoef(y_test_order, y_pred_ord))"
   ]
  },
  {
   "cell_type": "markdown",
   "id": "e49e4dd6",
   "metadata": {},
   "source": [
    "#### Final SVM model\n",
    "Description | Result \n",
    "--- | --- \n",
    "Model | SVM \n",
    "Best parameters | {'C': 9.5, 'gamma': 1, 'kernel': 'rbf'} \n",
    "Accuracy | 0.97 \n",
    "Kappa | 0.95 \n",
    "MCC | 0.97 \n",
    "\n",
    "Based on the classification report, Kappa score, and MCC score, **we could conclude that the overall SVM model performs well with 99% accuracy, kappa = 0.97, and MCC score = 0.97.**"
   ]
  },
  {
   "cell_type": "markdown",
   "id": "4de72d46",
   "metadata": {},
   "source": [
    "#### Reference\n",
    "https://www.theanalysisfactor.com/pros-and-cons-of-treating-ordinal-variables-as-nominal-or-continuous/  \n",
    "https://www.geeksforgeeks.org/multiclass-classification-using-scikit-learn/   \n",
    "https://www.kaggle.com/code/satishgunjal/multiclass-logistic-regression-using-sklearn  "
   ]
  }
 ],
 "metadata": {
  "kernelspec": {
   "display_name": "Python 3 (ipykernel)",
   "language": "python",
   "name": "python3"
  },
  "language_info": {
   "codemirror_mode": {
    "name": "ipython",
    "version": 3
   },
   "file_extension": ".py",
   "mimetype": "text/x-python",
   "name": "python",
   "nbconvert_exporter": "python",
   "pygments_lexer": "ipython3",
   "version": "3.8.15"
  }
 },
 "nbformat": 4,
 "nbformat_minor": 5
}
